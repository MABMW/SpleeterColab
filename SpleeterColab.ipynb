{
  "nbformat": 4,
  "nbformat_minor": 0,
  "metadata": {
    "colab": {
      "name": "SpleeterColab.ipynb",
      "provenance": [],
      "authorship_tag": "ABX9TyMgCmTSug5BlOA2fiVWgvwL",
      "include_colab_link": true
    },
    "kernelspec": {
      "display_name": "Python 3",
      "name": "python3"
    },
    "language_info": {
      "name": "python"
    },
    "accelerator": "GPU"
  },
  "cells": [
    {
      "cell_type": "markdown",
      "metadata": {
        "id": "view-in-github",
        "colab_type": "text"
      },
      "source": [
        "<a href=\"https://colab.research.google.com/github/MABMW/SpleeterColab/blob/main/SpleeterColab.ipynb\" target=\"_parent\"><img src=\"https://colab.research.google.com/assets/colab-badge.svg\" alt=\"Open In Colab\"/></a>"
      ]
    },
    {
      "cell_type": "markdown",
      "metadata": {
        "id": "4Ra-IFqm1ZQe"
      },
      "source": [
        "<img src=\"https://github.com/deezer/spleeter/raw/master/images/spleeter_logo.png\">"
      ]
    },
    {
      "cell_type": "markdown",
      "metadata": {
        "id": "7drhV-v5fXNk"
      },
      "source": [
        "#Spleeter by ***Deezer***"
      ]
    },
    {
      "cell_type": "markdown",
      "metadata": {
        "id": "DhPCJZbaf1xF"
      },
      "source": [
        "Spleeter es la biblioteca de separación de código fuente de Deezer con modelos preentrenados escritos en Python y utiliza Tensorflow. Facilita el entrenar el modelo de separación de origen (suponiendo que tenga un conjunto de datos de fuentes aisladas) y proporciona un modelo de vanguardia ya entrenado para realizar varios sabores de separación:\n",
        "\n",
        "Voz (voz cantante) / separación de acompañamiento (2 tallos)\n",
        "Voces / batería / bajo / otra separación (4 tallos)\n",
        "Voz / batería / bajo / piano / otra separación (5 tallos)\n",
        "Los modelos de 2 tallos y 4 tallos tienen altos rendimientos en el conjunto de datos musdb. Spleeter también es muy rápido, ya que puede realizar la separación de archivos de audio a 4 tallos 100 veces más rápido que en tiempo real cuando se ejecuta en una GPU."
      ]
    },
    {
      "cell_type": "markdown",
      "metadata": {
        "id": "vwkwgegjuKEr"
      },
      "source": [
        "#Preparar entorno de trabajo"
      ]
    },
    {
      "cell_type": "markdown",
      "metadata": {
        "id": "igP7r6P9xr-h"
      },
      "source": [
        ""
      ]
    },
    {
      "cell_type": "code",
      "metadata": {
        "id": "S8XS9X9wfL1Y"
      },
      "source": [
        "!apt install ffmpeg\n",
        "!apt install p7zip-full p7zip-rar\n",
        "!pip install spleeter"
      ],
      "execution_count": null,
      "outputs": []
    },
    {
      "cell_type": "code",
      "metadata": {
        "id": "dOIzFkB5iFb7"
      },
      "source": [
        "from IPython.display import Audio"
      ],
      "execution_count": null,
      "outputs": []
    },
    {
      "cell_type": "markdown",
      "metadata": {
        "id": "QoLveN36uYVa"
      },
      "source": [
        "#Importa Google Drive (si es necesario)"
      ]
    },
    {
      "cell_type": "markdown",
      "metadata": {
        "id": "LKe0_dWA0C2-"
      },
      "source": [
        "<img src=\"https://duckduckgo.com/i/509a9ea5.png\" width=\"200\" height=\"200\" ></img>\n",
        "\n"
      ]
    },
    {
      "cell_type": "code",
      "metadata": {
        "cellView": "form",
        "id": "-O70McKRjj82"
      },
      "source": [
        "\n",
        "drivemount = \"/content/GDrive\" #@param {type:\"string\"}\n",
        "from google.colab import drive\n",
        "drive.mount(drivemount)"
      ],
      "execution_count": null,
      "outputs": []
    },
    {
      "cell_type": "markdown",
      "metadata": {
        "id": "-lrWGl9PufWy"
      },
      "source": [
        "#Reproducir audio antes de procesar(No necesrario)"
      ]
    },
    {
      "cell_type": "code",
      "metadata": {
        "id": "SFXZ8uH3lh-Y"
      },
      "source": [
        "Audio('/content/gdrive/MyDrive/Music/example.mp3')"
      ],
      "execution_count": null,
      "outputs": []
    },
    {
      "cell_type": "markdown",
      "metadata": {
        "id": "2n3S0P-9unKs"
      },
      "source": [
        "#procesamiento"
      ]
    },
    {
      "cell_type": "markdown",
      "metadata": {
        "id": "Y7jqpTR2upB1"
      },
      "source": [
        "##Ayuda en comandos para spleeter (No necesario)"
      ]
    },
    {
      "cell_type": "code",
      "metadata": {
        "id": "T4vsmCPkmVLV"
      },
      "source": [
        "!echo Comandos globales de spleeter\n",
        "!spleeter --help\n",
        "!echo \n",
        "!echo Comandos para separar fuentes\n",
        "!spleeter separate --help"
      ],
      "execution_count": null,
      "outputs": []
    },
    {
      "cell_type": "markdown",
      "metadata": {
        "id": "WWW_vLkPut1T"
      },
      "source": [
        "##procesar archivo de audio"
      ]
    },
    {
      "cell_type": "code",
      "metadata": {
        "cellView": "form",
        "id": "DlQ5RmDkmrFt"
      },
      "source": [
        "import os\n",
        "FileInput = \"\" #@param {type:\"string\"}\n",
        "FolderOutput = \"/content/OutputSpleeter\" #@param {type:\"string\"}\n",
        "Bitrate = \"260k\" #@param [\"128k\",\"192k\",\"260k\",\"320k\"]\n",
        "Models = \"4stems\" #@param [\"2stems\",\"4stems\",\"5stems\"]\n",
        "codecsOutput = \"mp3\" #@param [\"mp3\", \"ogg\", \"flac\", \"m4a\", \"wma\", \"wav\", \"opus\"]\n",
        "backend = \"tensorflow\" #@param [\"auto\",\"tensorflow\",\"librosa\"]\n",
        "formatname = \"{filename}/{instrument}.{codec}\" #@param {type:\"string\"}\n",
        "kHz = False #@param {type:\"boolean\"}\n",
        "kilohz=\"\"\n",
        "if kHz ==True:\n",
        "  kilohz = Models+\"-16kHz\"\n",
        "else:\n",
        "  kilohz = Models+\"\"\n",
        "\n",
        "win = f'spleeter separate -p spleeter:{kilohz} -o \"{FolderOutput}\" -f \"{formatname}\" -b {Bitrate} -B {backend} -c {codecsOutput} \"{FileInput}\"'\n",
        "print(win)\n",
        "os.system(win)"
      ],
      "execution_count": null,
      "outputs": []
    },
    {
      "cell_type": "markdown",
      "metadata": {
        "id": "rEuZVbbyuzko"
      },
      "source": [
        "##Reproducir Resultado"
      ]
    },
    {
      "cell_type": "code",
      "metadata": {
        "id": "F04_64s0pBQp"
      },
      "source": [
        "Audio('/content/example/drums.mp3')"
      ],
      "execution_count": null,
      "outputs": []
    },
    {
      "cell_type": "markdown",
      "metadata": {
        "id": "bsukjVdzu3iV"
      },
      "source": [
        "#Descargar Todos los resultados"
      ]
    },
    {
      "cell_type": "code",
      "metadata": {
        "cellView": "form",
        "id": "dAFwKO1LqNN0"
      },
      "source": [
        "import os\n",
        "NameZip = \"SpleeterResult\" #@param {type: \"string\"}\n",
        "\n",
        "from google.colab import files\n",
        "print(f'Download /content/OutputSpleeter')\n",
        "\n",
        "cmd = f'7z a /content/{NameZip}.zip /content/OutputSpleeter'\n",
        "#!7z a /content/ + NameZip+\".zip\" /content/OutputSpleeter\n",
        "print(cmd)\n",
        "os.system(cmd)\n",
        "files.download(f\"/content/{NameZip}.zip\")"
      ],
      "execution_count": null,
      "outputs": []
    }
  ]
}